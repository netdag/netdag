{
 "cells": [
  {
   "cell_type": "code",
   "execution_count": null,
   "metadata": {
    "scrolled": false
   },
   "outputs": [],
   "source": [
    "from IPython.display import Image\n",
    "\n",
    "Image(filename='simple_task_graph.xml.gz_task_graph.png')"
   ]
  },
  {
   "cell_type": "code",
   "execution_count": null,
   "metadata": {
    "scrolled": true
   },
   "outputs": [],
   "source": [
    "import netdag\n",
    "import importlib\n",
    "\n",
    "importlib.reload(netdag)\n",
    "\n",
    "g = netdag.load_graph('simple_task_graph.xml.gz')\n",
    "assert(netdag.is_DAG(g))\n",
    "network = {'A': 1, 'B': 1, 'C': 1, 'D': 1, 'GAMMA': 1, 'LAMBDA': netdag.LAMBDA_WEAKLY_HARD}\n",
    "model = netdag.get_makespan_optimal_weakly_hard_schedule(g, network)\n",
    "zeta, chi, duration, label = model\n",
    "print('zeta', zeta)\n",
    "print('chi', chi)\n",
    "print('duration', duration)\n",
    "print('label', label)"
   ]
  },
  {
   "cell_type": "code",
   "execution_count": null,
   "metadata": {
    "scrolled": false
   },
   "outputs": [],
   "source": [
    "importlib.reload(netdag)\n",
    "\n",
    "netdag.draw_schedule(g, model, 'simple_task_graph.xml.gz_schedule_weakly_hard.png')\n",
    "Image(filename='simple_task_graph.xml.gz_schedule_weakly_hard.png')"
   ]
  },
  {
   "cell_type": "code",
   "execution_count": null,
   "metadata": {
    "collapsed": true
   },
   "outputs": [],
   "source": []
  }
 ],
 "metadata": {
  "kernelspec": {
   "display_name": "Python 3",
   "language": "python",
   "name": "python3"
  },
  "language_info": {
   "codemirror_mode": {
    "name": "ipython",
    "version": 3
   },
   "file_extension": ".py",
   "mimetype": "text/x-python",
   "name": "python",
   "nbconvert_exporter": "python",
   "pygments_lexer": "ipython3",
   "version": "3.5.2"
  }
 },
 "nbformat": 4,
 "nbformat_minor": 2
}
