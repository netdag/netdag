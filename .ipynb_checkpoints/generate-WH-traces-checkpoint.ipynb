{
 "cells": [
  {
   "cell_type": "code",
   "execution_count": 1,
   "metadata": {
    "scrolled": false
   },
   "outputs": [
    {
     "name": "stdout",
     "output_type": "stream",
     "text": [
      "[(1, 10), (3, 10), (5, 10), (1, 30), (3, 30), (5, 30), (7, 30), (1, 50), (3, 50), (5, 50), (7, 50), (1, 70), (3, 70), (5, 70), (7, 70), (9, 70), (11, 70), (1, 90), (3, 90), (5, 90), (7, 90), (9, 90), (11, 90), (1, 110), (3, 110), (5, 110), (7, 110), (9, 110), (11, 110), (1, 130), (3, 130), (5, 130), (7, 130), (9, 130), (11, 130), (1, 150), (3, 150), (5, 150), (7, 150), (9, 150), (11, 150), (13, 150), (1, 170), (3, 170), (5, 170), (7, 170), (9, 170), (11, 170), (13, 170), (1, 190), (3, 190), (5, 190), (7, 190), (9, 190), (11, 190), (13, 190), (1, 210), (3, 210), (5, 210), (7, 210), (9, 210), (11, 210), (13, 210)]\n"
     ]
    }
   ],
   "source": [
    "from simulator import k_sequence_WH_worker\n",
    "from network_statistics import WH_cmp\n",
    "from numpy import log, floor, mean\n",
    "from tqdm import tqdm\n",
    "from multiprocessing import Pool\n",
    "import matplotlib.pyplot as plt\n",
    "WH = [(m, K) for K in range(10, 211, 20) for m in range(1, 3*int(floor(log(K))), 2)]\n",
    "WH = [x for i, x in enumerate(WH) if not any((WH_cmp(x, y) and WH_cmp(y, x) for y in WH[:i]))]\n",
    "\n",
    "print(WH)"
   ]
  },
  {
   "cell_type": "code",
   "execution_count": null,
   "metadata": {
    "scrolled": true
   },
   "outputs": [
    {
     "name": "stderr",
     "output_type": "stream",
     "text": [
      " 48%|████▊     | 30/63 [36:37<40:17, 73.25s/it]"
     ]
    }
   ],
   "source": [
    "pool = Pool()\n",
    "\n",
    "for _ in tqdm(pool.imap_unordered(k_sequence_WH_worker, WH), total=len(WH)):\n",
    "    pass\n",
    "pool.close()\n",
    "pool.join()"
   ]
  },
  {
   "cell_type": "code",
   "execution_count": null,
   "metadata": {
    "scrolled": false
   },
   "outputs": [],
   "source": [
    "def scan_result(m, K):\n",
    "    with open('WH-traces/%03d_%03d_result.txt' % (K, m)) as f:\n",
    "        data = eval(f.read())\n",
    "    return data\n",
    "WH_performance = list(map(lambda WH_i: (WH_i, mean(scan_result(*WH_i))), WH))\n",
    "for K in range(10, 311, 20):\n",
    "    plt.plot(*zip(*map(lambda x: (x[0][0], x[1]), filter(lambda x: x[0][1] == K, WH_performance))))\n",
    "plt.show()"
   ]
  },
  {
   "cell_type": "code",
   "execution_count": null,
   "metadata": {
    "collapsed": true
   },
   "outputs": [],
   "source": []
  }
 ],
 "metadata": {
  "kernelspec": {
   "display_name": "Python 3",
   "language": "python",
   "name": "python3"
  },
  "language_info": {
   "codemirror_mode": {
    "name": "ipython",
    "version": 3
   },
   "file_extension": ".py",
   "mimetype": "text/x-python",
   "name": "python",
   "nbconvert_exporter": "python",
   "pygments_lexer": "ipython3",
   "version": "3.6.7"
  }
 },
 "nbformat": 4,
 "nbformat_minor": 2
}
