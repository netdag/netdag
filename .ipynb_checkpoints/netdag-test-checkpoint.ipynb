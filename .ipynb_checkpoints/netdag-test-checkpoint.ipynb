{
 "cells": [
  {
   "cell_type": "code",
   "execution_count": 1,
   "metadata": {},
   "outputs": [
    {
     "name": "stdout",
     "output_type": "stream",
     "text": [
      "*computing optimal soft-real time schedule via MIP*\n",
      "\tinstantiating symvars...\n",
      "\tgenerating constraint clauses...\n",
      "\tsending to solver...\n",
      "Academic license - for non-commercial use only\n",
      "Parameter OutputFlag unchanged\n",
      "   Value: 1  Min: 0  Max: 1  Default: 1\n",
      "Changed value of parameter QCPDual to 1\n",
      "   Prev: 0  Min: 0  Max: 1  Default: 0\n",
      "Optimize a model with 69310 rows, 14213 columns and 129225 nonzeros\n",
      "Variable types: 13721 continuous, 492 integer (448 binary)\n",
      "Coefficient statistics:\n",
      "  Matrix range     [6e-09, 1e+03]\n",
      "  Objective range  [1e+00, 1e+00]\n",
      "  Bounds range     [1e+00, 1e+00]\n",
      "  RHS range        [2e-02, 1e+03]\n",
      "Presolve removed 41527 rows and 4752 columns\n",
      "Presolve time: 0.64s\n",
      "Presolved: 27783 rows, 9461 columns, 67713 nonzeros\n",
      "Variable types: 624 continuous, 8837 integer (8799 binary)\n",
      "\n",
      "Root relaxation: objective 9.800000e+01, 922 iterations, 0.07 seconds\n",
      "\n",
      "    Nodes    |    Current Node    |     Objective Bounds      |     Work\n",
      " Expl Unexpl |  Obj  Depth IntInf | Incumbent    BestBd   Gap | It/Node Time\n",
      "\n",
      "     0     0   98.00000    0  269          -   98.00000      -     -    2s\n",
      "H    0     0                     423.0000000   98.00000  76.8%     -    2s\n",
      "     0     0   98.00000    0  382  423.00000   98.00000  76.8%     -    4s\n",
      "     0     0   98.00000    0  358  423.00000   98.00000  76.8%     -    5s\n",
      "     0     0   98.00000    0  127  423.00000   98.00000  76.8%     -    7s\n",
      "     0     0   98.00000    0  258  423.00000   98.00000  76.8%     -    9s\n",
      "     0     0   98.00000    0  147  423.00000   98.00000  76.8%     -   11s\n",
      "     0     0  118.00000    0  281  423.00000  118.00000  72.1%     -   12s\n",
      "     0     0  118.00000    0  256  423.00000  118.00000  72.1%     -   13s\n",
      "     0     0  118.00000    0  301  423.00000  118.00000  72.1%     -   13s\n",
      "     0     0  118.00000    0  378  423.00000  118.00000  72.1%     -   14s\n",
      "     0     0  118.00000    0  309  423.00000  118.00000  72.1%     -   15s\n",
      "     0     2  118.00000    0  308  423.00000  118.00000  72.1%     -   16s\n",
      "    31    23  166.91237    7  221  423.00000  119.00000  71.9%   822   20s\n",
      "H   63    55                     407.0000000  119.00000  70.8%   609   23s\n",
      "H   65    56                     406.0000000  119.00000  70.7%   601   23s\n",
      "   184   132  398.00000   23  227  406.00000  119.00000  70.7%   405   25s\n",
      "   791   391 infeasible   23       406.00000  165.65336  59.2%   215   30s\n",
      "  1576   736  207.25000   11  194  406.00000  188.00000  53.7%   183   35s\n",
      "  1772   861  346.86202   17  309  406.00000  188.00000  53.7%   190   40s\n",
      "  1776   864  290.12889   24  338  406.00000  188.00000  53.7%   189   45s\n",
      "  1781   869  188.00000   10  462  406.00000  188.00000  53.7%  11.8   54s\n",
      "  1783   870  188.00000   11  254  406.00000  188.00000  53.7%  13.1   56s\n",
      "  1790   875  188.00000   13  362  406.00000  188.00000  53.7%  17.2   61s\n",
      "  1798   877  188.00000   14  353  406.00000  188.00000  53.7%  23.8   66s\n",
      "  1811   878  188.00000   15  281  406.00000  188.00000  53.7%  35.1   70s\n",
      "  1836   888  204.01657   18  266  406.00000  188.00000  53.7%  52.2   75s\n",
      "  1890   903  226.44135   22  338  406.00000  188.00000  53.7%  72.2   80s\n",
      "  1999   902  188.00000   18  340  406.00000  188.00000  53.7%  92.0   85s\n",
      "  2084   928  295.00000   22  256  406.00000  188.00000  53.7%   112   90s\n",
      "  2246   953  373.00000   31  247  406.00000  188.00000  53.7%   123   95s\n",
      "  2554   986  304.57283   23  428  406.00000  188.55334  53.6%   134  100s\n",
      "  2939  1002  285.95227   17  325  406.00000  193.53715  52.3%   142  105s\n",
      "  3421  1024  275.53747   22  253  406.00000  222.16426  45.3%   147  110s\n",
      "  3934  1043  282.53767   17  307  406.00000  235.00883  42.1%   153  115s\n",
      "H 3966   983                     405.0000000  235.00883  42.0%   153  115s\n",
      "  4230   952  245.49914   20  184  405.00000  238.00000  41.2%   157  122s\n",
      "  4310   966  385.64191   32  124  405.00000  238.00000  41.2%   158  125s\n",
      "  4486   987     cutoff   24       405.00000  241.26208  40.4%   161  131s\n",
      "  4579   988  396.07743   28  141  405.00000  255.09309  37.0%   163  136s\n",
      "  4686   997 infeasible   24       405.00000  262.23059  35.3%   164  142s\n",
      "  4797   994  392.25575   27  270  405.00000  263.81575  34.9%   165  145s\n",
      "  5211  1031  323.70598   20  280  405.00000  275.00000  32.1%   163  150s\n",
      "  5638  1075     cutoff   23       405.00000  283.40959  30.0%   163  156s\n",
      "  5858  1077  323.03944   19  303  405.00000  286.22580  29.3%   163  161s\n",
      "  6296  1050  392.00000   25  231  405.00000  300.48036  25.8%   164  167s\n",
      "  6632  1061  378.77714   27  357  405.00000  303.17107  25.1%   162  171s\n",
      "  6902  1044  398.43622   20  320  405.00000  316.00000  22.0%   160  175s\n",
      "  7905  1103  369.00000   28  126  405.00000  325.65864  19.6%   151  183s\n",
      "  8341  1108  394.63432   30  196  405.00000  331.25079  18.2%   149  187s\n",
      "  8553  1045  402.12033   22  311  405.00000  337.54533  16.7%   148  190s\n",
      "  9233   910 infeasible   23       405.00000  366.00000  9.63%   145  195s\n",
      " 10109   877  400.07671   27   68  405.00000  369.00000  8.89%   139  200s\n",
      " 11018   704  381.30337   26  143  405.00000  374.00000  7.65%   134  206s\n",
      " 11733   494  387.23596   36   98  405.00000  379.00000  6.42%   131  210s\n",
      " 12525   186 infeasible   26       405.00000  391.00000  3.46%   127  216s\n",
      "\n",
      "Cutting planes:\n",
      "  Implied bound: 20\n",
      "  Clique: 8\n",
      "  MIR: 14\n",
      "  Zero half: 5\n",
      "\n",
      "Explored 13161 nodes (1988182 simplex iterations) in 219.17 seconds\n",
      "Thread count was 8 (of 8 available processors)\n",
      "\n",
      "Solution count 4: 405 406 407 423 \n",
      "\n",
      "Optimal solution found (tolerance 1.00e-04)\n",
      "Best objective 4.050000000000e+02, best bound 4.050000000000e+02, gap 0.0000%\n",
      "\tsolver returned optimal!\n",
      "zeta [ -0.  -0.  -0.   0. 405. 234. 234. 338. 405.   0. 188. 234. 332. 338.\n",
      " 359. 405.]\n",
      "chi [3. 5. 5. 4. 4. 4. 1. 1. 7. 1. 5. 1. 1. 1.]\n",
      "duration [  0. 187.   0.  97.  -0.  20.   0.]\n",
      "label [2. 2. 2. 2. 4. 4. 6.]\n"
     ]
    }
   ],
   "source": [
    "import netdag\n",
    "import importlib\n",
    "from IPython.display import Image\n",
    "\n",
    "importlib.reload(netdag)\n",
    "\n",
    "g = netdag.load_graph('simple_task_graph.xml.gz')\n",
    "assert(netdag.is_DAG(g))\n",
    "network = {'A': 1, 'B': 1, 'C': 1, 'D': 1, 'GAMMA': 1, 'LAMBDA': netdag.LAMBDA}\n",
    "model = netdag.get_makespan_optimal_soft_schedule(g, network)\n",
    "zeta, chi, duration, label = model\n",
    "print('zeta', zeta.value)\n",
    "print('chi', chi.value)\n",
    "print('duration', duration.value)\n",
    "print('label', label.value)"
   ]
  },
  {
   "cell_type": "code",
   "execution_count": 2,
   "metadata": {
    "scrolled": false
   },
   "outputs": [
    {
     "data": {
      "image/png": "[encoded data removed]",
      "text/plain": [
       "<IPython.core.display.Image object>"
      ]
     },
     "execution_count": 2,
     "metadata": {},
     "output_type": "execute_result"
    }
   ],
   "source": [
    "netdag.draw_schedule_MIP(g, model, network, 'simple_task_graph.xml.gz_schedule_soft.png')\n",
    "Image(filename='simple_task_graph.xml.gz_schedule_soft.png')"
   ]
  },
  {
   "cell_type": "code",
   "execution_count": null,
   "metadata": {
    "collapsed": true,
    "scrolled": false
   },
   "outputs": [],
   "source": []
  }
 ],
 "metadata": {
  "kernelspec": {
   "display_name": "Python 3",
   "language": "python",
   "name": "python3"
  },
  "language_info": {
   "codemirror_mode": {
    "name": "ipython",
    "version": 3
   },
   "file_extension": ".py",
   "mimetype": "text/x-python",
   "name": "python",
   "nbconvert_exporter": "python",
   "pygments_lexer": "ipython3",
   "version": "3.5.2"
  }
 },
 "nbformat": 4,
 "nbformat_minor": 2
}
