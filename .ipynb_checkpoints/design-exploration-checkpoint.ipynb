{
 "cells": [
  {
   "cell_type": "code",
   "execution_count": null,
   "metadata": {},
   "outputs": [],
   "source": [
    "import netdag\n",
    "from IPython.display import Image\n",
    "from numpy.random import random\n",
    "from numpy.linalg import norm\n",
    "from numpy import array\n",
    "from itertools import combinations\n",
    "\n",
    "models = {}"
   ]
  },
  {
   "cell_type": "code",
   "execution_count": null,
   "metadata": {},
   "outputs": [],
   "source": [
    "N_nodes = 10\n",
    "N_samples = 100\n",
    "\n",
    "placements = random(size=(N_samples, N_nodes, 3))\n",
    "R = [[norm(x - y) for x, y in combinations(placement, 2)] for placement in placements]\n",
    "\n",
    "print(R)"
   ]
  },
  {
   "cell_type": "code",
   "execution_count": null,
   "metadata": {},
   "outputs": [],
   "source": [
    "Image(filename='control-application.png')"
   ]
  },
  {
   "cell_type": "code",
   "execution_count": null,
   "metadata": {
    "scrolled": true
   },
   "outputs": [],
   "source": [
    "g = netdag.load_graph('control-application.xml.gz')\n",
    "assert(netdag.is_DAG(g))\n",
    "network = {'A': 1, 'B': 1, 'C': 1, 'D': 1, 'GAMMA': 1, 'LAMBDA': netdag.LAMBDA_SOFT}\n",
    "model = netdag.get_makespan_optimal_soft_schedule(g, network)\n",
    "zeta, chi, duration, label = model\n",
    "models['simple-9'] = model\n",
    "print('zeta', zeta)\n",
    "print('chi', chi)\n",
    "print('duration', duration)\n",
    "print('label', label)"
   ]
  },
  {
   "cell_type": "code",
   "execution_count": null,
   "metadata": {
    "scrolled": false
   },
   "outputs": [],
   "source": [
    "importlib.reload(netdag)\n",
    "\n",
    "netdag.draw_schedule(g, models['simple-9'], 'simple-task-graph.xml.gz_schedule-soft.png')\n",
    "Image(filename='simple-task-graph.xml.gz_schedule-soft.png')"
   ]
  },
  {
   "cell_type": "code",
   "execution_count": null,
   "metadata": {},
   "outputs": [],
   "source": [
    "import simulator\n",
    "importlib.reload(simulator)\n",
    "\n",
    "simulator.simulate_soft(g, models['simple-9'], netdag.LAMBDA_SOFT, N_iter=100000)"
   ]
  },
  {
   "cell_type": "code",
   "execution_count": null,
   "metadata": {},
   "outputs": [],
   "source": [
    "from IPython.display import Image\n",
    "\n",
    "Image(filename='complex-015-task-graph.xml.gz_task-graph.png')"
   ]
  },
  {
   "cell_type": "code",
   "execution_count": null,
   "metadata": {
    "scrolled": true
   },
   "outputs": [],
   "source": [
    "import netdag\n",
    "import importlib\n",
    "\n",
    "importlib.reload(netdag)\n",
    "\n",
    "g = netdag.load_graph('complex-015-task-graph.xml.gz')\n",
    "assert(netdag.is_DAG(g))\n",
    "network = {'A': 1, 'B': 1, 'C': 1, 'D': 1, 'GAMMA': 1, 'LAMBDA': netdag.LAMBDA_SOFT}\n",
    "model = netdag.get_makespan_optimal_soft_schedule(g, network)\n",
    "models['complex-015'] = model\n",
    "zeta, chi, duration, label = model\n",
    "print('zeta', zeta)\n",
    "print('chi', chi)\n",
    "print('duration', duration)\n",
    "print('label', label)"
   ]
  },
  {
   "cell_type": "code",
   "execution_count": null,
   "metadata": {},
   "outputs": [],
   "source": [
    "importlib.reload(netdag)\n",
    "\n",
    "netdag.draw_schedule(g, models['complex-015'], 'complex-015-task-graph.xml.gz_schedule-soft.png')\n",
    "Image(filename='complex-015-task-graph.xml.gz_schedule-soft.png')"
   ]
  },
  {
   "cell_type": "code",
   "execution_count": null,
   "metadata": {},
   "outputs": [],
   "source": [
    "import simulator\n",
    "importlib.reload(simulator)\n",
    "\n",
    "simulator.simulate_soft(g, models['complex-015'], netdag.LAMBDA_SOFT, N_iter=100000)"
   ]
  },
  {
   "cell_type": "code",
   "execution_count": null,
   "metadata": {},
   "outputs": [],
   "source": []
  }
 ],
 "metadata": {
  "kernelspec": {
   "display_name": "Python 3",
   "language": "python",
   "name": "python3"
  },
  "language_info": {
   "codemirror_mode": {
    "name": "ipython",
    "version": 3
   },
   "file_extension": ".py",
   "mimetype": "text/x-python",
   "name": "python",
   "nbconvert_exporter": "python",
   "pygments_lexer": "ipython3",
   "version": "3.6.7"
  }
 },
 "nbformat": 4,
 "nbformat_minor": 2
}
