{
 "cells": [
  {
   "cell_type": "code",
   "execution_count": 1,
   "metadata": {},
   "outputs": [],
   "source": [
    "models = {}"
   ]
  },
  {
   "cell_type": "code",
   "execution_count": null,
   "metadata": {
    "scrolled": false
   },
   "outputs": [],
   "source": [
    "from IPython.display import Image\n",
    "\n",
    "Image(filename='simple-task-graph.xml.gz_task-graph.png')"
   ]
  },
  {
   "cell_type": "code",
   "execution_count": null,
   "metadata": {
    "scrolled": false
   },
   "outputs": [],
   "source": [
    "import netdag\n",
    "import importlib\n",
    "\n",
    "importlib.reload(netdag)\n",
    "\n",
    "g = netdag.load_graph('simple-task-graph.xml.gz')\n",
    "assert(netdag.is_DAG(g))\n",
    "network = {'A': 1, 'B': 1, 'C': 1, 'D': 1, 'GAMMA': 1, 'LAMBDA': netdag.LAMBDA_WEAKLY_HARD}\n",
    "model = netdag.get_makespan_optimal_weakly_hard_schedule(g, network)\n",
    "models['simple-9'] = model\n",
    "zeta, chi, duration, label = model\n",
    "print('zeta', zeta)\n",
    "print('chi', chi)\n",
    "print('duration', duration)\n",
    "print('label', label)"
   ]
  },
  {
   "cell_type": "code",
   "execution_count": null,
   "metadata": {
    "scrolled": false
   },
   "outputs": [],
   "source": [
    "importlib.reload(netdag)\n",
    "\n",
    "netdag.draw_schedule(g, model, 'simple-task-graph.xml.gz_schedule-weakly-hard.png')\n",
    "Image(filename='simple-task-graph.xml.gz_schedule-weakly-hard.png')"
   ]
  },
  {
   "cell_type": "code",
   "execution_count": null,
   "metadata": {},
   "outputs": [],
   "source": [
    "from IPython.display import Image\n",
    "\n",
    "Image(filename='complex-035-task-graph.xml.gz_task-graph.png')"
   ]
  },
  {
   "cell_type": "code",
   "execution_count": null,
   "metadata": {},
   "outputs": [],
   "source": [
    "import netdag\n",
    "import importlib\n",
    "\n",
    "importlib.reload(netdag)\n",
    "\n",
    "g = netdag.load_graph('complex-035-task-graph.xml.gz')\n",
    "assert(netdag.is_DAG(g))\n",
    "network = {'A': 1, 'B': 1, 'C': 1, 'D': 1, 'GAMMA': 1, 'LAMBDA': netdag.LAMBDA_WEAKLY_HARD}\n",
    "model = netdag.get_makespan_optimal_weakly_hard_schedule(g, network)\n",
    "models['complex-035'] = model\n",
    "zeta, chi, duration, label = model\n",
    "print('zeta', zeta)\n",
    "print('chi', chi)\n",
    "print('duration', duration)\n",
    "print('label', label)"
   ]
  },
  {
   "cell_type": "code",
   "execution_count": null,
   "metadata": {},
   "outputs": [],
   "source": [
    "importlib.reload(netdag)\n",
    "\n",
    "netdag.draw_schedule(g, model, 'complex-035-task-graph.xml.gz_schedule-weakly-hard.png')\n",
    "Image(filename='complex-035-task-graph.xml.gz_schedule-weakly-hard.png')"
   ]
  },
  {
   "cell_type": "code",
   "execution_count": null,
   "metadata": {},
   "outputs": [],
   "source": []
  }
 ],
 "metadata": {
  "kernelspec": {
   "display_name": "Python 3",
   "language": "python",
   "name": "python3"
  },
  "language_info": {
   "codemirror_mode": {
    "name": "ipython",
    "version": 3
   },
   "file_extension": ".py",
   "mimetype": "text/x-python",
   "name": "python",
   "nbconvert_exporter": "python",
   "pygments_lexer": "ipython3",
   "version": "3.6.7"
  }
 },
 "nbformat": 4,
 "nbformat_minor": 2
}
