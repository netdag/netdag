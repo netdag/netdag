{
 "cells": [
  {
   "cell_type": "code",
   "execution_count": null,
   "metadata": {},
   "outputs": [
    {
     "name": "stdout",
     "output_type": "stream",
     "text": [
      "*computing optimal soft-real time schedule via MIP*\n",
      "\tinstantiating symvars...\n",
      "\tgenerating constraint clauses...\n",
      "\tsending to solver...\n",
      "Academic license - for non-commercial use only\n",
      "Parameter OutputFlag unchanged\n",
      "   Value: 1  Min: 0  Max: 1  Default: 1\n",
      "Changed value of parameter QCPDual to 1\n",
      "   Prev: 0  Min: 0  Max: 1  Default: 0\n",
      "Optimize a model with 69310 rows, 14213 columns and 129225 nonzeros\n",
      "Variable types: 13721 continuous, 492 integer (448 binary)\n",
      "Coefficient statistics:\n",
      "  Matrix range     [6e-09, 1e+03]\n",
      "  Objective range  [1e+00, 1e+00]\n",
      "  Bounds range     [1e+00, 1e+00]\n",
      "  RHS range        [2e-02, 1e+03]\n",
      "Presolve removed 41527 rows and 4752 columns\n",
      "Presolve time: 0.64s\n",
      "Presolved: 27783 rows, 9461 columns, 67713 nonzeros\n",
      "Variable types: 624 continuous, 8837 integer (8799 binary)\n",
      "\n",
      "Root relaxation: objective 9.800000e+01, 922 iterations, 0.07 seconds\n",
      "\n",
      "    Nodes    |    Current Node    |     Objective Bounds      |     Work\n",
      " Expl Unexpl |  Obj  Depth IntInf | Incumbent    BestBd   Gap | It/Node Time\n",
      "\n",
      "     0     0   98.00000    0  269          -   98.00000      -     -    2s\n",
      "H    0     0                     423.0000000   98.00000  76.8%     -    2s\n",
      "     0     0   98.00000    0  382  423.00000   98.00000  76.8%     -    4s\n",
      "     0     0   98.00000    0  358  423.00000   98.00000  76.8%     -    5s\n",
      "     0     0   98.00000    0  127  423.00000   98.00000  76.8%     -    7s\n",
      "     0     0   98.00000    0  258  423.00000   98.00000  76.8%     -    9s\n",
      "     0     0   98.00000    0  147  423.00000   98.00000  76.8%     -   11s\n",
      "     0     0  118.00000    0  281  423.00000  118.00000  72.1%     -   12s\n",
      "     0     0  118.00000    0  256  423.00000  118.00000  72.1%     -   13s\n",
      "     0     0  118.00000    0  301  423.00000  118.00000  72.1%     -   13s\n",
      "     0     0  118.00000    0  378  423.00000  118.00000  72.1%     -   14s\n",
      "     0     0  118.00000    0  309  423.00000  118.00000  72.1%     -   15s\n",
      "     0     2  118.00000    0  308  423.00000  118.00000  72.1%     -   16s\n",
      "    31    23  166.91237    7  221  423.00000  119.00000  71.9%   822   20s\n",
      "H   63    55                     407.0000000  119.00000  70.8%   609   23s\n",
      "H   65    56                     406.0000000  119.00000  70.7%   601   23s\n",
      "   184   132  398.00000   23  227  406.00000  119.00000  70.7%   405   25s\n",
      "   791   391 infeasible   23       406.00000  165.65336  59.2%   215   30s\n",
      "  1576   736  207.25000   11  194  406.00000  188.00000  53.7%   183   35s\n",
      "  1772   861  346.86202   17  309  406.00000  188.00000  53.7%   190   40s\n",
      "  1776   864  290.12889   24  338  406.00000  188.00000  53.7%   189   45s\n",
      "  1781   869  188.00000   10  462  406.00000  188.00000  53.7%  11.8   54s\n",
      "  1783   870  188.00000   11  254  406.00000  188.00000  53.7%  13.1   56s\n"
     ]
    }
   ],
   "source": [
    "import netdag\n",
    "import importlib\n",
    "from IPython.display import Image\n",
    "\n",
    "importlib.reload(netdag)\n",
    "\n",
    "g = netdag.load_graph('simple_task_graph.xml.gz')\n",
    "assert(netdag.is_DAG(g))\n",
    "network = {'A': 1, 'B': 1, 'C': 1, 'D': 1, 'GAMMA': 1, 'LAMBDA': netdag.LAMBDA}\n",
    "model = netdag.get_makespan_optimal_soft_schedule(g, network)\n",
    "zeta, chi, duration, label = model\n",
    "print('zeta', zeta.value)\n",
    "print('chi', chi.value)\n",
    "print('duration', duration.value)\n",
    "print('label', label.value)"
   ]
  },
  {
   "cell_type": "code",
   "execution_count": null,
   "metadata": {
    "scrolled": false
   },
   "outputs": [],
   "source": [
    "netdag.draw_schedule_MIP(g, model, network, 'simple_task_graph.xml.gz_schedule_soft.png')\n",
    "Image(filename='simple_task_graph.xml.gz_schedule_soft.png')"
   ]
  },
  {
   "cell_type": "code",
   "execution_count": null,
   "metadata": {
    "collapsed": true,
    "scrolled": false
   },
   "outputs": [],
   "source": []
  }
 ],
 "metadata": {
  "kernelspec": {
   "display_name": "Python 3",
   "language": "python",
   "name": "python3"
  },
  "language_info": {
   "codemirror_mode": {
    "name": "ipython",
    "version": 3
   },
   "file_extension": ".py",
   "mimetype": "text/x-python",
   "name": "python",
   "nbconvert_exporter": "python",
   "pygments_lexer": "ipython3",
   "version": "3.5.2"
  }
 },
 "nbformat": 4,
 "nbformat_minor": 2
}
