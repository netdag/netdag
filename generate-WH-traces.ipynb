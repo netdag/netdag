{
 "cells": [
  {
   "cell_type": "code",
   "execution_count": 1,
   "metadata": {
    "scrolled": false
   },
   "outputs": [
    {
     "name": "stdout",
     "output_type": "stream",
     "text": [
      "[(1, 10), (3, 10), (5, 10), (1, 30), (3, 30), (5, 30), (7, 30), (1, 50), (3, 50), (5, 50), (7, 50), (1, 70), (3, 70), (5, 70), (7, 70), (9, 70), (11, 70), (1, 90), (3, 90), (5, 90), (7, 90), (9, 90), (11, 90)]\n"
     ]
    }
   ],
   "source": [
    "from simulator import k_sequence_WH_worker\n",
    "from network_statistics import WH_cmp\n",
    "from numpy import log, floor, mean\n",
    "from tqdm import tqdm\n",
    "from multiprocessing import Pool\n",
    "import matplotlib.pyplot as plt\n",
    "WH = [(m, K) for K in range(10, 91, 20) for m in range(1, 3*int(floor(log(K))), 2)]\n",
    "WH = [x for i, x in enumerate(WH) if not any((WH_cmp(x, y) and WH_cmp(y, x) for y in WH[:i]))]\n",
    "\n",
    "print(WH)"
   ]
  },
  {
   "cell_type": "code",
   "execution_count": null,
   "metadata": {
    "scrolled": true
   },
   "outputs": [
    {
     "name": "stderr",
     "output_type": "stream",
     "text": [
      " 48%|████▊     | 30/63 [36:37<40:17, 73.25s/it]"
     ]
    }
   ],
   "source": [
    "pool = Pool()\n",
    "\n",
    "for _ in tqdm(pool.imap_unordered(k_sequence_WH_worker, WH), total=len(WH)):\n",
    "    pass\n",
    "pool.close()\n",
    "pool.join()"
   ]
  },
  {
   "cell_type": "code",
   "execution_count": 30,
   "metadata": {
    "scrolled": false
   },
   "outputs": [
    {
     "data": {
      "image/png": "[encoded data removed]",
      "text/plain": [
       "<matplotlib.figure.Figure at 0x7fd2abdc6748>"
      ]
     },
     "metadata": {},
     "output_type": "display_data"
    }
   ],
   "source": [
    "def scan_result(m, K):\n",
    "    with open('WH-traces/%03d_%03d_result.txt' % (K, m)) as f:\n",
    "        data = eval(f.read())\n",
    "    return data\n",
    "def marker():\n",
    "    markers = [\"o\", \"^\", \"s\", \"P\", \"X\"]\n",
    "    for marker in markers:\n",
    "        yield marker\n",
    "WH_performance = list(map(lambda WH_i: (WH_i, mean(scan_result(*WH_i))), WH))\n",
    "marker_gen = marker()\n",
    "plt.figure(figsize=(8,3))\n",
    "plt.rc('font', family='Times New Roman', size=12)\n",
    "plt.rc('scatter', marker='+')\n",
    "plt.rc('lines', markersize=8)\n",
    "\n",
    "for K in range(10, 91, 20):\n",
    "    plt.scatter(*zip(*map(lambda x: (x[0][0], x[1]), filter(lambda x: x[0][1] == K, WH_performance))),\n",
    "                marker=next(marker_gen))\n",
    "plt.legend(list(map(lambda x: 'K=%d' % x, range(10, 91, 20))))\n",
    "plt.xlabel('m (misses allowed per K-window)')\n",
    "plt.ylabel('Average Performance')\n",
    "plt.xticks(range(1, 12, 2))\n",
    "plt.savefig('weakly-hard-control-experiment.svg')\n",
    "plt.show()"
   ]
  },
  {
   "cell_type": "code",
   "execution_count": null,
   "metadata": {},
   "outputs": [],
   "source": []
  }
 ],
 "metadata": {
  "kernelspec": {
   "display_name": "Python 3",
   "language": "python",
   "name": "python3"
  },
  "language_info": {
   "codemirror_mode": {
    "name": "ipython",
    "version": 3
   },
   "file_extension": ".py",
   "mimetype": "text/x-python",
   "name": "python",
   "nbconvert_exporter": "python",
   "pygments_lexer": "ipython3",
   "version": "3.6.7"
  }
 },
 "nbformat": 4,
 "nbformat_minor": 2
}
