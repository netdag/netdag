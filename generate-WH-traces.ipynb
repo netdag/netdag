{
 "cells": [
  {
   "cell_type": "code",
   "execution_count": null,
   "metadata": {
    "scrolled": false
   },
   "outputs": [],
   "source": [
    "from simulator import k_sequence_WH_worker\n",
    "from network_statistics import WH_cmp\n",
    "from numpy import log, floor\n",
    "from tqdm import tqdm\n",
    "from multiprocessing import Pool\n",
    "WH = [(m, K) for K in range(10, 311, 20) for m in range(1, 3*int(floor(log(K))), 2)]\n",
    "WH = [x for i, x in enumerate(WH) if not any((WH_cmp(x, y) and WH_cmp(y, x) for y in WH[:i]))]\n",
    "\n",
    "print(WH)"
   ]
  },
  {
   "cell_type": "code",
   "execution_count": null,
   "metadata": {
    "scrolled": true
   },
   "outputs": [],
   "source": [
    "pool = Pool()\n",
    "\n",
    "for _ in tqdm(pool.imap_unordered(k_sequence_WH_worker, WH), total=len(WH)):\n",
    "    pass\n",
    "pool.close()\n",
    "pool.join()"
   ]
  },
  {
   "cell_type": "code",
   "execution_count": null,
   "metadata": {},
   "outputs": [],
   "source": []
  }
 ],
 "metadata": {
  "kernelspec": {
   "display_name": "Python 3",
   "language": "python",
   "name": "python3"
  },
  "language_info": {
   "codemirror_mode": {
    "name": "ipython",
    "version": 3
   },
   "file_extension": ".py",
   "mimetype": "text/x-python",
   "name": "python",
   "nbconvert_exporter": "python",
   "pygments_lexer": "ipython3",
   "version": "3.6.7"
  }
 },
 "nbformat": 4,
 "nbformat_minor": 2
}
